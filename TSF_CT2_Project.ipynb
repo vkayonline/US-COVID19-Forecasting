{
  "nbformat": 4,
  "nbformat_minor": 0,
  "metadata": {
    "colab": {
      "name": "TSF_CT2_Project.ipynb",
      "provenance": [],
      "include_colab_link": true
    },
    "kernelspec": {
      "name": "python3",
      "display_name": "Python 3"
    },
    "language_info": {
      "name": "python"
    }
  },
  "cells": [
    {
      "cell_type": "markdown",
      "metadata": {
        "id": "view-in-github",
        "colab_type": "text"
      },
      "source": [
        "<a href=\"https://colab.research.google.com/github/vkayonline/US-COVID19-Forecasting/blob/main/TSF_CT2_Project.ipynb\" target=\"_parent\"><img src=\"https://colab.research.google.com/assets/colab-badge.svg\" alt=\"Open In Colab\"/></a>"
      ]
    },
    {
      "cell_type": "code",
      "execution_count": null,
      "metadata": {
        "id": "zD0KT1hBjo4B"
      },
      "outputs": [],
      "source": [
        "import numpy as np\n",
        "import pandas as pd\n",
        "import matplotlib.pyplot as plt\n",
        "%matplotlib inline\n",
        "import seaborn as sns"
      ]
    },
    {
      "cell_type": "markdown",
      "source": [
        "1. Read the data and do exploratory data analysis. Describe the data briefly and interpret the inferences for each. Initial steps like head() .info(), Data Types, etc ."
      ],
      "metadata": {
        "id": "2sdytxxc9JXa"
      }
    },
    {
      "cell_type": "code",
      "source": [
        "data = pd.read_csv('https://raw.githubusercontent.com/vkayonline/US-COVID19-Forecasting/main/datasets/us_covid19_daily.csv')\n",
        "data.head()"
      ],
      "metadata": {
        "id": "ayFYKkci9uNn"
      },
      "execution_count": null,
      "outputs": []
    },
    {
      "cell_type": "code",
      "source": [
        "data.info()"
      ],
      "metadata": {
        "id": "tG_GH7rs9vC6"
      },
      "execution_count": null,
      "outputs": []
    },
    {
      "cell_type": "markdown",
      "source": [
        "2. Check for null values. Display appropriate plots for the columns and discuss inference from the plots and summary stats. Check for null values."
      ],
      "metadata": {
        "id": "yYZYSFcv9UoZ"
      }
    },
    {
      "cell_type": "markdown",
      "source": [
        "3. Display boxplot to find the distribution of the variable ‘hospitalized’ and interpret your inferences. Perform boxplot for month wise distribution of the same and explain your inferences."
      ],
      "metadata": {
        "id": "Br59S9az9WRP"
      }
    },
    {
      "cell_type": "markdown",
      "source": [
        "4. Perform decomposition of the time series data."
      ],
      "metadata": {
        "id": "qiaQqVSr9YWd"
      }
    },
    {
      "cell_type": "markdown",
      "source": [
        "5. Is the data stationary? Plot original data and the rolling mean and standard deviation with window = 15. Perform statistical tests to confirm the stationarity of the data."
      ],
      "metadata": {
        "id": "3vQvuTX29Zs_"
      }
    },
    {
      "cell_type": "markdown",
      "source": [
        "6. Plot ACF and PACF plots for the series."
      ],
      "metadata": {
        "id": "M_obLRnc9c89"
      }
    },
    {
      "cell_type": "markdown",
      "source": [
        "7. Declare the feature vector and split the data into training and test sets. Consider the data before 06-11-2020 for training data and the rest for the test set."
      ],
      "metadata": {
        "id": "oCfUGWi89fHJ"
      }
    },
    {
      "cell_type": "markdown",
      "source": [
        "8. Perform Simple average model, Exponential Model, AR, MA and ARIMA Model,Compare the Evaluation metrics of the models and interpret your inferences."
      ],
      "metadata": {
        "id": "e430b-MS9hPs"
      }
    },
    {
      "cell_type": "code",
      "source": [
        ""
      ],
      "metadata": {
        "id": "ZXtYYnUL3wFN"
      },
      "execution_count": null,
      "outputs": []
    }
  ]
}